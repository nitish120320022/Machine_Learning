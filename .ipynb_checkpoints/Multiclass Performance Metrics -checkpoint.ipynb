{
 "cells": [
  {
   "cell_type": "code",
   "execution_count": 3,
   "id": "8c0988fd",
   "metadata": {},
   "outputs": [],
   "source": [
    "from sklearn import metrics"
   ]
  },
  {
   "cell_type": "code",
   "execution_count": 4,
   "id": "aa651b37",
   "metadata": {},
   "outputs": [],
   "source": [
    "C = \"cat\"\n",
    "D = \"dog\"\n",
    "F = \"Fox\""
   ]
  },
  {
   "cell_type": "code",
   "execution_count": 5,
   "id": "3f1317cc",
   "metadata": {},
   "outputs": [
    {
     "name": "stdout",
     "output_type": "stream",
     "text": [
      "[[2 6 2]\n",
      " [1 4 1]\n",
      " [0 3 6]]\n",
      "              precision    recall  f1-score   support\n",
      "\n",
      "         Fox      0.667     0.200     0.308        10\n",
      "         cat      0.308     0.667     0.421         6\n",
      "         dog      0.667     0.667     0.667         9\n",
      "\n",
      "    accuracy                          0.480        25\n",
      "   macro avg      0.547     0.511     0.465        25\n",
      "weighted avg      0.581     0.480     0.464        25\n",
      "\n"
     ]
    }
   ],
   "source": [
    "y_true = [C, C, C, C, C, C,  F, F, F, F, F, F, F, F, F, F,  D, D, D, D, D, D, D, D, D]\n",
    "y_pred = [C, C, C, C, D, F,  C, C, C, C, C, C, D, D, F, F,  C, C, C, D, D, D, D, D, D]\n",
    "print(metrics.confusion_matrix(y_true, y_pred))\n",
    "print(metrics.classification_report(y_true, y_pred, digits = 3))"
   ]
  },
  {
   "cell_type": "code",
   "execution_count": null,
   "id": "39aa93b7",
   "metadata": {},
   "outputs": [],
   "source": []
  },
  {
   "cell_type": "markdown",
   "id": "91f4baba",
   "metadata": {},
   "source": [
    "import matplotlib.pyplot as plt\n",
    "from sklearn.metrics import roc_curve\n",
    "from sklearn.preprocessing import LabelEncoder\n",
    "label = LabelEncoder()\n",
    "C = \"cat\"\n",
    "D = \"dog\"\n",
    "y_true = [C, C, C, C, C, C,  D, D, D, D, D, D, D, D, D]\n",
    "y_pred = [C, C, C, C, D, D,  C, C, C, D, D, D, D, D, D]\n",
    "y_true = label.fit_transform(y_true)\n",
    "y_pred = label.fit_transform(y_pred)\n",
    "fpr, tpr, thresolds = roc_curve(y_true, y_pred)\n",
    "plt.plot([0, 1], [0, 1], linestyle = '--')\n",
    "plt.plot(fpr, tpr, marker = '.')\n",
    "plt.xlabel('FPR')\n",
    "plt.ylabel('TPR')\n",
    "plt.legend()\n",
    "plt.show()"
   ]
  },
  {
   "cell_type": "code",
   "execution_count": null,
   "id": "7bab31a8",
   "metadata": {},
   "outputs": [],
   "source": []
  }
 ],
 "metadata": {
  "kernelspec": {
   "display_name": "Python 3 (ipykernel)",
   "language": "python",
   "name": "python3"
  },
  "language_info": {
   "codemirror_mode": {
    "name": "ipython",
    "version": 3
   },
   "file_extension": ".py",
   "mimetype": "text/x-python",
   "name": "python",
   "nbconvert_exporter": "python",
   "pygments_lexer": "ipython3",
   "version": "3.9.12"
  }
 },
 "nbformat": 4,
 "nbformat_minor": 5
}
